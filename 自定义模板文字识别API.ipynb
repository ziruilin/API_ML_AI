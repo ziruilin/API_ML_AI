{
 "cells": [
  {
   "cell_type": "code",
   "execution_count": 1,
   "metadata": {},
   "outputs": [
    {
     "name": "stdout",
     "output_type": "stream",
     "text": [
      "b'{\"refresh_token\":\"25.6f79687591f150f91b7cc87525341143.315360000.1861540429.282335-15290392\",\"expires_in\":2592000,\"session_key\":\"9mzdCPPR9fuCwEHTaHSDceJZ5\\\\/jjEkwRF4zr8Ti0v06AJv\\\\/oLML28WrrGLmh8dWc0LbuEdepwYBU+tu09r6YI+eH0omubw==\",\"access_token\":\"24.37cc170013993016d514320d57e2eef9.2592000.1548772429.282335-15290392\",\"scope\":\"public vis-ocr_ocr brain_ocr_scope brain_ocr_general brain_ocr_general_basic brain_ocr_general_enhanced vis-ocr_business_license brain_ocr_webimage brain_all_scope brain_ocr_idcard brain_ocr_driving_license brain_ocr_vehicle_license vis-ocr_plate_number brain_solution brain_ocr_plate_number brain_ocr_accurate brain_ocr_accurate_basic brain_ocr_receipt brain_ocr_business_license brain_solution_iocr brain_ocr_handwriting brain_ocr_vat_invoice brain_numbers brain_ocr_train_ticket brain_ocr_taxi_receipt wise_adapt lebo_resource_base lightservice_public hetu_basic lightcms_map_poi kaidian_kaidian ApsMisTest_Test\\\\u6743\\\\u9650 vis-classify_flower lpq_\\\\u5f00\\\\u653e cop_helloScope ApsMis_fangdi_permission smartapp_snsapi_base iop_autocar oauth_tp_app smartapp_smart_game_openapi oauth_sessionkey smartapp_swanid_verify\",\"session_secret\":\"96bc5ca30fcf3268163865af00d9d33f\"}\\n'\n"
     ]
    }
   ],
   "source": [
    "import urllib, urllib.request, sys\n",
    "import ssl\n",
    "\n",
    "# client_id 为官网获取的AK， client_secret 为官网获取的SK\n",
    "host = 'https://aip.baidubce.com/oauth/2.0/token?grant_type=client_credentials&client_id=hKTyGoTBEF8BAm7joEhpDjpV&client_secret=CWGp62NTi1p2g7fzasbh6EdUHaWv6USI'\n",
    "request = urllib.request.Request(host)\n",
    "request.add_header('Content-Type', 'application/json; charset=UTF-8')\n",
    "response = urllib.request.urlopen(request)\n",
    "content = response.read()\n",
    "if (content):\n",
    "    print(content)"
   ]
  },
  {
   "cell_type": "code",
   "execution_count": 2,
   "metadata": {},
   "outputs": [],
   "source": [
    "from aip import AipOcr\n",
    "\n",
    "\"\"\" 你的 APPID AK SK \"\"\"\n",
    "APP_ID = '15290392'\n",
    "API_KEY = 'hKTyGoTBEF8BAm7joEhpDjpV'\n",
    "SECRET_KEY = 'CWGp62NTi1p2g7fzasbh6EdUHaWv6USI'\n",
    "\n",
    "client = AipOcr(APP_ID, API_KEY, SECRET_KEY)"
   ]
  },
  {
   "cell_type": "code",
   "execution_count": 9,
   "metadata": {},
   "outputs": [
    {
     "name": "stdout",
     "output_type": "stream",
     "text": [
      "[{'probability': {'average': 0.999539, 'min': 0.998673, 'variance': 0.0}, 'location': {'height': 20, 'left': 137, 'top': 66, 'width': 182}, 'word_name': '时间安排', 'word': '每天作乐带回,每天'}, {'probability': {'average': 0.999043, 'min': 0.996317, 'variance': 1e-06}, 'location': {'height': 20, 'left': 138, 'top': 33, 'width': 129}, 'word_name': '事件计划', 'word': '每天背50个单词'}, {'probability': {'average': 0.998374, 'min': 0.994838, 'variance': 3e-06}, 'location': {'height': 23, 'left': 140, 'top': 127, 'width': 41}, 'word_name': '提醒形式', 'word': '语音'}]\n"
     ]
    }
   ],
   "source": [
    "\"\"\" 读取图片 \"\"\"\n",
    "def get_file_content(filePath):\n",
    "    with open(filePath, 'rb') as fp:\n",
    "        return fp.read()\n",
    "\n",
    "image = get_file_content('C:\\模板.jpg')\n",
    "templateSign = \"cbb351d7b40ed7634c5f96d04587b594\"\n",
    "\n",
    "\"\"\" 调用自定义模板文字识别 \"\"\"\n",
    "word = client.custom(image,templateSign)['data']['ret'];\n",
    "\n",
    "print (word)"
   ]
  },
  {
   "cell_type": "code",
   "execution_count": 10,
   "metadata": {},
   "outputs": [
    {
     "data": {
      "text/html": [
       "<div>\n",
       "<style scoped>\n",
       "    .dataframe tbody tr th:only-of-type {\n",
       "        vertical-align: middle;\n",
       "    }\n",
       "\n",
       "    .dataframe tbody tr th {\n",
       "        vertical-align: top;\n",
       "    }\n",
       "\n",
       "    .dataframe thead th {\n",
       "        text-align: right;\n",
       "    }\n",
       "</style>\n",
       "<table border=\"1\" class=\"dataframe\">\n",
       "  <thead>\n",
       "    <tr style=\"text-align: right;\">\n",
       "      <th></th>\n",
       "      <th>0</th>\n",
       "    </tr>\n",
       "  </thead>\n",
       "  <tbody>\n",
       "    <tr>\n",
       "      <th>时间安排</th>\n",
       "      <td>每天作乐带回,每天</td>\n",
       "    </tr>\n",
       "    <tr>\n",
       "      <th>事件计划</th>\n",
       "      <td>每天背50个单词</td>\n",
       "    </tr>\n",
       "    <tr>\n",
       "      <th>提醒形式</th>\n",
       "      <td>语音</td>\n",
       "    </tr>\n",
       "  </tbody>\n",
       "</table>\n",
       "</div>"
      ],
      "text/plain": [
       "              0\n",
       "时间安排  每天作乐带回,每天\n",
       "事件计划   每天背50个单词\n",
       "提醒形式         语音"
      ]
     },
     "execution_count": 10,
     "metadata": {},
     "output_type": "execute_result"
    }
   ],
   "source": [
    "import pandas as pd\n",
    "df_g1 = pd.DataFrame({ x['word_name']:x['word'] for x in word },index=[0]).T\n",
    "df_g1"
   ]
  },
  {
   "cell_type": "code",
   "execution_count": null,
   "metadata": {},
   "outputs": [],
   "source": []
  }
 ],
 "metadata": {
  "kernelspec": {
   "display_name": "Python 3",
   "language": "python",
   "name": "python3"
  },
  "language_info": {
   "codemirror_mode": {
    "name": "ipython",
    "version": 3
   },
   "file_extension": ".py",
   "mimetype": "text/x-python",
   "name": "python",
   "nbconvert_exporter": "python",
   "pygments_lexer": "ipython3",
   "version": "3.7.0"
  }
 },
 "nbformat": 4,
 "nbformat_minor": 2
}
