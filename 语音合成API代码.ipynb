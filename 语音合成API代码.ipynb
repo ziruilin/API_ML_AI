{
 "cells": [
  {
   "cell_type": "code",
   "execution_count": 9,
   "metadata": {},
   "outputs": [],
   "source": [
    "\n",
    "from aip import AipSpeech\n",
    "\n",
    "\"\"\" 你的 APPID AK SK \"\"\"\n",
    "APP_ID = 'xxxxxx'\n",
    "API_KEY = 'xxxxxxxxxxxx'\n",
    "SECRET_KEY = 'xxxxxxxxxxxxxxx'\n",
    "\n",
    "client = AipSpeech(APP_ID, API_KEY, SECRET_KEY)"
   ]
  },
  {
   "cell_type": "code",
   "execution_count": 10,
   "metadata": {},
   "outputs": [],
   "source": [
    "\n",
    "result  = client.synthesis('小静，你好，今天早上7点你需要背诵50个英语单词，晚上8点需要做两篇阅读和一篇作文', 'zh', 1, {'vol': 5,})\n",
    "\n",
    "# 识别正确返回语音二进制 错误则返回dict 参照下面错误码\n",
    "if not isinstance(result, dict):\n",
    "    with open('auido.mp3', 'wb') as f:\n",
    "        f.write(result)"
   ]
  },
  {
   "cell_type": "code",
   "execution_count": null,
   "metadata": {},
   "outputs": [],
   "source": []
  },
  {
   "cell_type": "code",
   "execution_count": null,
   "metadata": {},
   "outputs": [],
   "source": []
  }
 ],
 "metadata": {
  "kernelspec": {
   "display_name": "Python 3",
   "language": "python",
   "name": "python3"
  },
  "language_info": {
   "codemirror_mode": {
    "name": "ipython",
    "version": 3
   },
   "file_extension": ".py",
   "mimetype": "text/x-python",
   "name": "python",
   "nbconvert_exporter": "python",
   "pygments_lexer": "ipython3",
   "version": "3.7.0"
  }
 },
 "nbformat": 4,
 "nbformat_minor": 2
}
